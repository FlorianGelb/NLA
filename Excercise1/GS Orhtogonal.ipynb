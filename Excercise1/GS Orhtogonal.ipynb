{
 "cells": [
  {
   "cell_type": "code",
   "execution_count": 1,
   "id": "07f6a4b4",
   "metadata": {},
   "outputs": [],
   "source": [
    "import numpy as np"
   ]
  },
  {
   "cell_type": "code",
   "execution_count": 17,
   "id": "a60b7283",
   "metadata": {},
   "outputs": [],
   "source": [
    "def function1(X):\n",
    "    v = np.zeros(X.shape)\n",
    "    for j in range(X.shape[0]):\n",
    "        y = np.zeros(X.shape[1])\n",
    "        for i in range(j):\n",
    "            r = np.inner(X[j], v[i])\n",
    "            y += r * v[i]\n",
    "        v[j] = (X[j] - y)/np.linalg.norm(X[j] - y)\n",
    "    return v\n",
    "        "
   ]
  },
  {
   "cell_type": "code",
   "execution_count": 18,
   "id": "7f205b14",
   "metadata": {},
   "outputs": [],
   "source": [
    "def function2(X):\n",
    "    v = np.zeros(X.shape)\n",
    "    for j in range(X.shape[0]):\n",
    "        w = X[j]\n",
    "        for i in range(j):\n",
    "            r = np.inner(w, v[i])\n",
    "            w = w - r * v[i]\n",
    "        v[j] = (w)/np.linalg.norm(w)\n",
    "    return v\n",
    "        "
   ]
  },
  {
   "cell_type": "code",
   "execution_count": 19,
   "id": "ce50be97",
   "metadata": {},
   "outputs": [],
   "source": [
    "def GenerateHilbert(n):\n",
    "    H = np.zeros((n,n))\n",
    "    for i in range(1, n+1):\n",
    "        h = [1/(i + j) for j in range(n)]\n",
    "        H[i-1] = h\n",
    "    return H\n",
    "        \n",
    "            "
   ]
  },
  {
   "cell_type": "code",
   "execution_count": null,
   "id": "9e779268",
   "metadata": {},
   "outputs": [],
   "source": []
  },
  {
   "cell_type": "code",
   "execution_count": 63,
   "id": "70adc2cb",
   "metadata": {},
   "outputs": [],
   "source": [
    "n = 1000"
   ]
  },
  {
   "cell_type": "code",
   "execution_count": 64,
   "id": "b63328cc",
   "metadata": {},
   "outputs": [],
   "source": [
    "H = GenerateHilbert(n)"
   ]
  },
  {
   "cell_type": "code",
   "execution_count": 65,
   "id": "796d1be2",
   "metadata": {},
   "outputs": [],
   "source": [
    "R1 = function1(H)"
   ]
  },
  {
   "cell_type": "code",
   "execution_count": 66,
   "id": "ed1a9d1a",
   "metadata": {},
   "outputs": [],
   "source": [
    "R2 = function2(H)"
   ]
  },
  {
   "cell_type": "code",
   "execution_count": 67,
   "id": "1a7ae9df",
   "metadata": {},
   "outputs": [],
   "source": [
    "R3 = function1(R1)"
   ]
  },
  {
   "cell_type": "code",
   "execution_count": 68,
   "id": "8d8d77e4",
   "metadata": {},
   "outputs": [],
   "source": [
    "R4 = function1(R2)"
   ]
  },
  {
   "cell_type": "markdown",
   "id": "83f1c6c0",
   "metadata": {},
   "source": [
    "Since $R_1^{T}R_1$ and $R_2^{T}R_2$ are supposed to be equal to the identity matrix, the sum of all off diagonal entry should be zero, therefore $G_k := R_k^{T}R_k - \\mathbb{I}$, $\\Sigma_k = \\sum_{i=1}^{n}\\sum_{j=1}^{n} |g_{ij}^{k}|$ hast to be zero. Due to numerical / rounding errors, this does not hold for the computed matrices above. Large $\\Sigma_k$ indicates, that the according matrix $R_k$ is not orthogonal."
   ]
  },
  {
   "cell_type": "code",
   "execution_count": 69,
   "id": "bce26395",
   "metadata": {},
   "outputs": [
    {
     "data": {
      "text/plain": [
       "319615.3517070741"
      ]
     },
     "execution_count": 69,
     "metadata": {},
     "output_type": "execute_result"
    }
   ],
   "source": [
    "np.sum(abs(np.matmul(R1.T, R1) - np.identity(n)))"
   ]
  },
  {
   "cell_type": "code",
   "execution_count": 70,
   "id": "707dbcef",
   "metadata": {},
   "outputs": [
    {
     "data": {
      "text/plain": [
       "4228.080270900577"
      ]
     },
     "execution_count": 70,
     "metadata": {},
     "output_type": "execute_result"
    }
   ],
   "source": [
    "np.sum(abs(np.matmul(R2.T, R2) - np.identity(n)))"
   ]
  },
  {
   "cell_type": "code",
   "execution_count": 71,
   "id": "4e244f59",
   "metadata": {},
   "outputs": [
    {
     "data": {
      "text/plain": [
       "555770.9540641983"
      ]
     },
     "execution_count": 71,
     "metadata": {},
     "output_type": "execute_result"
    }
   ],
   "source": [
    "np.sum(abs(np.matmul(R3.T, R3) - np.identity(n)))"
   ]
  },
  {
   "cell_type": "code",
   "execution_count": 72,
   "id": "cd4daa57",
   "metadata": {},
   "outputs": [
    {
     "data": {
      "text/plain": [
       "1.3740774860795175e-06"
      ]
     },
     "execution_count": 72,
     "metadata": {},
     "output_type": "execute_result"
    }
   ],
   "source": [
    "np.sum(abs(np.matmul(R4.T, R4) - np.identity(n)))"
   ]
  },
  {
   "cell_type": "markdown",
   "id": "db1fd7da",
   "metadata": {},
   "source": [
    "Function2 yields better results, since the orthogonalization inside the inner loop is not directly based on the according vector $x_j$, the numerical errors are taken into account during the process. This results in a more orthogonal matrix "
   ]
  },
  {
   "cell_type": "code",
   "execution_count": null,
   "id": "bb35b75b",
   "metadata": {},
   "outputs": [],
   "source": []
  },
  {
   "cell_type": "code",
   "execution_count": null,
   "id": "2197ff25",
   "metadata": {},
   "outputs": [],
   "source": []
  },
  {
   "cell_type": "code",
   "execution_count": null,
   "id": "82479974",
   "metadata": {},
   "outputs": [],
   "source": []
  }
 ],
 "metadata": {
  "kernelspec": {
   "display_name": "Python 3 (ipykernel)",
   "language": "python",
   "name": "python3"
  },
  "language_info": {
   "codemirror_mode": {
    "name": "ipython",
    "version": 3
   },
   "file_extension": ".py",
   "mimetype": "text/x-python",
   "name": "python",
   "nbconvert_exporter": "python",
   "pygments_lexer": "ipython3",
   "version": "3.11.4"
  }
 },
 "nbformat": 4,
 "nbformat_minor": 5
}
