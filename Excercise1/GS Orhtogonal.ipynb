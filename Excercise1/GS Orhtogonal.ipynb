{
 "cells": [
  {
   "cell_type": "code",
   "execution_count": 6,
   "id": "07f6a4b4",
   "metadata": {},
   "outputs": [],
   "source": [
    "import numpy as np"
   ]
  },
  {
   "cell_type": "code",
   "execution_count": 40,
   "id": "a60b7283",
   "metadata": {},
   "outputs": [],
   "source": [
    "def function1(X):\n",
    "    v = np.zeros(X.shape)\n",
    "    for j in range(X.shape[0]):\n",
    "        y = np.zeros(X.shape[1])\n",
    "        for i in range(j):\n",
    "            r = np.inner(X[j], v[i])\n",
    "            y += r * v[i]\n",
    "        v[j] = (X[j] - y)/np.linalg.norm(X[j] - y)\n",
    "    return v\n",
    "        "
   ]
  },
  {
   "cell_type": "code",
   "execution_count": 41,
   "id": "7f205b14",
   "metadata": {},
   "outputs": [],
   "source": [
    "def function2(X):\n",
    "    v = np.zeros(X.shape)\n",
    "    for j in range(X.shape[0]):\n",
    "        w = X[j]\n",
    "        for i in range(j):\n",
    "            r = np.inner(w, v[i])\n",
    "            w = w - r * v[i]\n",
    "        v[j] = (w)/np.linalg.norm(w)\n",
    "    return v\n",
    "        "
   ]
  },
  {
   "cell_type": "code",
   "execution_count": 42,
   "id": "b4881061",
   "metadata": {},
   "outputs": [],
   "source": [
    "X = np.array([[1,2,9], [4,3,6], [1,8,3]])"
   ]
  },
  {
   "cell_type": "code",
   "execution_count": 43,
   "id": "8dba3803",
   "metadata": {},
   "outputs": [
    {
     "data": {
      "text/plain": [
       "array([[1, 2, 9],\n",
       "       [4, 3, 6],\n",
       "       [1, 8, 3]])"
      ]
     },
     "execution_count": 43,
     "metadata": {},
     "output_type": "execute_result"
    }
   ],
   "source": [
    "X"
   ]
  },
  {
   "cell_type": "code",
   "execution_count": 44,
   "id": "20e186ad",
   "metadata": {},
   "outputs": [],
   "source": [
    "Y = function1(X)"
   ]
  },
  {
   "cell_type": "code",
   "execution_count": 45,
   "id": "adfdaaf6",
   "metadata": {},
   "outputs": [
    {
     "data": {
      "text/plain": [
       "0.5025707110324167"
      ]
     },
     "execution_count": 45,
     "metadata": {},
     "output_type": "execute_result"
    }
   ],
   "source": [
    "7/np.linalg.norm([7,8,9])"
   ]
  },
  {
   "cell_type": "code",
   "execution_count": 46,
   "id": "f9b9e0df",
   "metadata": {},
   "outputs": [
    {
     "data": {
      "text/plain": [
       "array([[ 1.00000000e+00,  4.46295437e-18,  1.73797894e-16],\n",
       "       [ 4.46295437e-18,  1.00000000e+00, -9.54576493e-18],\n",
       "       [ 1.73797894e-16, -9.54576493e-18,  1.00000000e+00]])"
      ]
     },
     "execution_count": 46,
     "metadata": {},
     "output_type": "execute_result"
    }
   ],
   "source": [
    "np.matmul(Y.T, Y)"
   ]
  },
  {
   "cell_type": "code",
   "execution_count": null,
   "id": "c480c86f",
   "metadata": {},
   "outputs": [],
   "source": []
  },
  {
   "cell_type": "code",
   "execution_count": 47,
   "id": "4e813bfe",
   "metadata": {},
   "outputs": [],
   "source": [
    "Y2 = function2(X)"
   ]
  },
  {
   "cell_type": "code",
   "execution_count": 48,
   "id": "b3eb6112",
   "metadata": {},
   "outputs": [
    {
     "data": {
      "text/plain": [
       "array([[ 0.10783277,  0.21566555,  0.97049496],\n",
       "       [ 0.8903482 ,  0.41337595, -0.1907889 ],\n",
       "       [-0.44232587,  0.88465174, -0.14744196]])"
      ]
     },
     "execution_count": 48,
     "metadata": {},
     "output_type": "execute_result"
    }
   ],
   "source": [
    "Y"
   ]
  },
  {
   "cell_type": "code",
   "execution_count": 49,
   "id": "777f7c66",
   "metadata": {},
   "outputs": [
    {
     "data": {
      "text/plain": [
       "array([[ 0.10783277,  0.21566555,  0.97049496],\n",
       "       [ 0.8903482 ,  0.41337595, -0.1907889 ],\n",
       "       [-0.44232587,  0.88465174, -0.14744196]])"
      ]
     },
     "execution_count": 49,
     "metadata": {},
     "output_type": "execute_result"
    }
   ],
   "source": [
    "Y2"
   ]
  },
  {
   "cell_type": "code",
   "execution_count": 50,
   "id": "ce50be97",
   "metadata": {},
   "outputs": [],
   "source": [
    "def GenerateHilbert(n):\n",
    "    H = np.zeros((n,n))\n",
    "    for i in range(1, n+1):\n",
    "        h = [1/(i + j) for j in range(n)]\n",
    "        H[i-1] = h\n",
    "    return H\n",
    "        \n",
    "            "
   ]
  },
  {
   "cell_type": "code",
   "execution_count": 66,
   "id": "b63328cc",
   "metadata": {},
   "outputs": [],
   "source": [
    "H = GenerateHilbert(1000)"
   ]
  },
  {
   "cell_type": "code",
   "execution_count": 67,
   "id": "796d1be2",
   "metadata": {},
   "outputs": [],
   "source": [
    "R1 = function1(function1(H))"
   ]
  },
  {
   "cell_type": "code",
   "execution_count": 68,
   "id": "ed1a9d1a",
   "metadata": {},
   "outputs": [],
   "source": [
    "R2 = function2(function2(H))"
   ]
  },
  {
   "cell_type": "code",
   "execution_count": 69,
   "id": "bce26395",
   "metadata": {},
   "outputs": [
    {
     "data": {
      "text/plain": [
       "array([[ 1.00000016e+00, -1.05434125e-05,  1.45337584e-04, ...,\n",
       "        -2.81057963e-04, -2.81130653e-04, -2.81091529e-04],\n",
       "       [-1.05434125e-05,  1.00070403e+00, -9.70333392e-03, ...,\n",
       "         1.87751087e-02,  1.87799640e-02,  1.87773509e-02],\n",
       "       [ 1.45337584e-04, -9.70333392e-03,  1.13370168e+00, ...,\n",
       "        -2.58954396e-01, -2.59021351e-01, -2.58985318e-01],\n",
       "       ...,\n",
       "       [-2.81057963e-04,  1.87751087e-02, -2.58954396e-01, ...,\n",
       "         5.00612610e-01,  5.00741375e-01,  5.00671274e-01],\n",
       "       [-2.81130653e-04,  1.87799640e-02, -2.59021351e-01, ...,\n",
       "         5.00741375e-01,  5.00870173e-01,  5.00800055e-01],\n",
       "       [-2.81091529e-04,  1.87773509e-02, -2.58985318e-01, ...,\n",
       "         5.00671274e-01,  5.00800055e-01,  5.00729946e-01]])"
      ]
     },
     "execution_count": 69,
     "metadata": {},
     "output_type": "execute_result"
    }
   ],
   "source": [
    "np.matmul(R1.T, R1)"
   ]
  },
  {
   "cell_type": "code",
   "execution_count": 70,
   "id": "707dbcef",
   "metadata": {},
   "outputs": [
    {
     "data": {
      "text/plain": [
       "array([[ 1.00000000e+00,  7.77093405e-17,  7.72925952e-17, ...,\n",
       "        -7.80906106e-15, -5.26497217e-15,  1.21035574e-14],\n",
       "       [ 7.77093405e-17,  1.00000000e+00,  1.40090222e-16, ...,\n",
       "        -7.19010422e-15, -6.44317786e-15,  1.15348357e-14],\n",
       "       [ 7.72925952e-17,  1.40090222e-16,  1.00000000e+00, ...,\n",
       "        -4.60080501e-15, -1.60773280e-15,  5.52040594e-15],\n",
       "       ...,\n",
       "       [-7.80906106e-15, -7.19010422e-15, -4.60080501e-15, ...,\n",
       "         1.00000000e+00,  2.39391840e-16,  1.47451495e-16],\n",
       "       [-5.26497217e-15, -6.44317786e-15, -1.60773280e-15, ...,\n",
       "         2.39391840e-16,  1.00000000e+00, -7.97972799e-17],\n",
       "       [ 1.21035574e-14,  1.15348357e-14,  5.52040594e-15, ...,\n",
       "         1.47451495e-16, -7.97972799e-17,  1.00000000e+00]])"
      ]
     },
     "execution_count": 70,
     "metadata": {},
     "output_type": "execute_result"
    }
   ],
   "source": [
    "np.matmul(R2.T, R2)"
   ]
  },
  {
   "cell_type": "code",
   "execution_count": null,
   "id": "edd78f51",
   "metadata": {},
   "outputs": [],
   "source": []
  },
  {
   "cell_type": "code",
   "execution_count": null,
   "id": "2197ff25",
   "metadata": {},
   "outputs": [],
   "source": []
  }
 ],
 "metadata": {
  "kernelspec": {
   "display_name": "Python 3 (ipykernel)",
   "language": "python",
   "name": "python3"
  },
  "language_info": {
   "codemirror_mode": {
    "name": "ipython",
    "version": 3
   },
   "file_extension": ".py",
   "mimetype": "text/x-python",
   "name": "python",
   "nbconvert_exporter": "python",
   "pygments_lexer": "ipython3",
   "version": "3.11.4"
  }
 },
 "nbformat": 4,
 "nbformat_minor": 5
}
