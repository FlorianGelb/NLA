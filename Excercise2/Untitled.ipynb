{
 "cells": [
  {
   "cell_type": "code",
   "execution_count": 480,
   "id": "9df25ed4",
   "metadata": {},
   "outputs": [],
   "source": [
    "import numpy as np"
   ]
  },
  {
   "cell_type": "code",
   "execution_count": 481,
   "id": "1f89aae6",
   "metadata": {},
   "outputs": [],
   "source": []
  },
  {
   "cell_type": "code",
   "execution_count": 490,
   "id": "f505ddf5",
   "metadata": {},
   "outputs": [],
   "source": [
    "def householder_compute(x):\n",
    "    alpha = x[0, 0] * (1 + np.linalg.norm(x) / abs(x[0, 0]))\n",
    "    x = x / alpha\n",
    "    x[0, 0] = 1\n",
    "    return (x, 2/np.linalg.norm(x)**2)"
   ]
  },
  {
   "cell_type": "code",
   "execution_count": null,
   "id": "cfa97076",
   "metadata": {},
   "outputs": [],
   "source": []
  },
  {
   "cell_type": "code",
   "execution_count": 757,
   "id": "8c9303b4",
   "metadata": {},
   "outputs": [],
   "source": [
    "def householder(x, b, w):\n",
    "    if b != 0:\n",
    "        a = float(b * np.matmul(x.T, w))\n",
    "        x = x - a*w\n",
    "    return x"
   ]
  },
  {
   "cell_type": "code",
   "execution_count": 758,
   "id": "3272c32b",
   "metadata": {},
   "outputs": [],
   "source": [
    "X = np.matrix([[1,4,2], [2,9, 1], [7,4,3]])"
   ]
  },
  {
   "cell_type": "code",
   "execution_count": 759,
   "id": "2ee75f79",
   "metadata": {},
   "outputs": [],
   "source": [
    "Q = np.matrix([])\n",
    "for i in range(X.shape[0]):\n",
    "    x = X[i].T\n",
    "    w, beta = householder_compute(x)\n",
    "    K = (beta * np.matmul(w, w.T))\n",
    "    Q = np.identity(K.shape[0]) - K\n",
    "    X = Q.T * X\n",
    "    if Q.shape == (1, 0):\n",
    "        Q = np.identity(K.shape[0]) - K\n",
    "    else:\n",
    "        Q = np.matmul(Q, np.identity(K.shape[0]) - K)\n",
    "    "
   ]
  },
  {
   "cell_type": "code",
   "execution_count": 760,
   "id": "c9dc0a94",
   "metadata": {},
   "outputs": [
    {
     "data": {
      "text/plain": [
       "matrix([[1.00000000e+00, 1.73472348e-16, 1.11022302e-16],\n",
       "        [1.73472348e-16, 1.00000000e+00, 0.00000000e+00],\n",
       "        [1.11022302e-16, 0.00000000e+00, 1.00000000e+00]])"
      ]
     },
     "execution_count": 760,
     "metadata": {},
     "output_type": "execute_result"
    }
   ],
   "source": [
    "Q"
   ]
  },
  {
   "cell_type": "code",
   "execution_count": 761,
   "id": "88921df9",
   "metadata": {},
   "outputs": [],
   "source": [
    "W = []\n",
    "B = []"
   ]
  },
  {
   "cell_type": "code",
   "execution_count": 851,
   "id": "3487b96a",
   "metadata": {},
   "outputs": [],
   "source": [
    "X = np.matrix([[1,4,2], [2,9, 1], [7,4,3]])\n",
    "def R(X):\n",
    "    if X.size == 0:\n",
    "        return X\n",
    "    w, beta = householder_compute(X[0].T)\n",
    "    X = (np.column_stack([householder(x.T, beta, w) for x in X]))\n",
    "    X[1:, 1:] = R(X[1:, 1:])\n",
    "    return X\n",
    "R = R(X)\n"
   ]
  },
  {
   "cell_type": "code",
   "execution_count": 858,
   "id": "8529d20c",
   "metadata": {},
   "outputs": [
    {
     "data": {
      "text/plain": [
       "matrix([[-4.58257569, -8.72871561, -6.32831882],\n",
       "        [ 0.        , -5.7030758 , -1.07277193],\n",
       "        [ 0.        ,  0.        ,  3.17584502]])"
      ]
     },
     "execution_count": 858,
     "metadata": {},
     "output_type": "execute_result"
    }
   ],
   "source": [
    "R[abs(R) < 1E-8] = 0\n",
    "R"
   ]
  },
  {
   "cell_type": "code",
   "execution_count": 857,
   "id": "54777695",
   "metadata": {},
   "outputs": [
    {
     "data": {
      "text/plain": [
       "(matrix([[-0.21821789, -0.03040792, -0.97542622],\n",
       "         [-0.87287156, -0.44091486,  0.2090199 ],\n",
       "         [-0.43643578,  0.89703369,  0.0696733 ]]),\n",
       " matrix([[-4.58257569, -8.72871561, -6.32831882],\n",
       "         [ 0.        , -3.13201593,  0.71458616],\n",
       "         [ 0.        ,  0.        , -5.78288402]]))"
      ]
     },
     "execution_count": 857,
     "metadata": {},
     "output_type": "execute_result"
    }
   ],
   "source": [
    "\n",
    "np.linalg.qr(X.T)"
   ]
  },
  {
   "cell_type": "code",
   "execution_count": null,
   "id": "5a3646ae",
   "metadata": {},
   "outputs": [],
   "source": []
  }
 ],
 "metadata": {
  "kernelspec": {
   "display_name": "Python 3 (ipykernel)",
   "language": "python",
   "name": "python3"
  },
  "language_info": {
   "codemirror_mode": {
    "name": "ipython",
    "version": 3
   },
   "file_extension": ".py",
   "mimetype": "text/x-python",
   "name": "python",
   "nbconvert_exporter": "python",
   "pygments_lexer": "ipython3",
   "version": "3.11.4"
  }
 },
 "nbformat": 4,
 "nbformat_minor": 5
}
