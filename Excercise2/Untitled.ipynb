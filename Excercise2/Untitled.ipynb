{
 "cells": [
  {
   "cell_type": "code",
   "execution_count": 3,
   "id": "9df25ed4",
   "metadata": {},
   "outputs": [],
   "source": [
    "import numpy as np"
   ]
  },
  {
   "cell_type": "code",
   "execution_count": null,
   "id": "1f89aae6",
   "metadata": {},
   "outputs": [],
   "source": []
  },
  {
   "cell_type": "code",
   "execution_count": 24,
   "id": "f505ddf5",
   "metadata": {},
   "outputs": [],
   "source": [
    "def householder_compute(x):\n",
    "    alpha = x[0, 0] * (1 + np.linalg.norm(x) / abs(x[0, 0]))\n",
    "    x = x / alpha\n",
    "    x[0, 0] = 1\n",
    "    return (x, 2/np.linalg.norm(x)**2)"
   ]
  },
  {
   "cell_type": "code",
   "execution_count": null,
   "id": "cfa97076",
   "metadata": {},
   "outputs": [],
   "source": []
  },
  {
   "cell_type": "code",
   "execution_count": 288,
   "id": "8c9303b4",
   "metadata": {},
   "outputs": [],
   "source": [
    "def householder(x, b, w):\n",
    "    if b != 0:\n",
    "        a = float(b * np.matmul(x.T, w))\n",
    "        x = x - a*w\n",
    "    print(np.asarray(x).shape)\n",
    "    return np.asarray(x)"
   ]
  },
  {
   "cell_type": "code",
   "execution_count": 275,
   "id": "3272c32b",
   "metadata": {},
   "outputs": [],
   "source": [
    "X = np.matrix([[1,4,2], [2,9, 1], [7,4,3]])"
   ]
  },
  {
   "cell_type": "code",
   "execution_count": 276,
   "id": "2ee75f79",
   "metadata": {},
   "outputs": [],
   "source": [
    "Q = np.matrix([])\n",
    "for i in range(X.shape[0]):\n",
    "    x = X[i].T\n",
    "    w, beta = householder_compute(x)\n",
    "    K = (beta * np.matmul(w, w.T))\n",
    "    Q = np.identity(K.shape[0]) - K\n",
    "    X = Q.T * X\n",
    "    if Q.shape == (1, 0):\n",
    "        Q = np.identity(K.shape[0]) - K\n",
    "    else:\n",
    "        Q = np.matmul(Q, np.identity(K.shape[0]) - K)\n",
    "    "
   ]
  },
  {
   "cell_type": "code",
   "execution_count": 277,
   "id": "c9dc0a94",
   "metadata": {},
   "outputs": [
    {
     "data": {
      "text/plain": [
       "matrix([[1.00000000e+00, 1.73472348e-16, 1.11022302e-16],\n",
       "        [1.73472348e-16, 1.00000000e+00, 0.00000000e+00],\n",
       "        [1.11022302e-16, 0.00000000e+00, 1.00000000e+00]])"
      ]
     },
     "execution_count": 277,
     "metadata": {},
     "output_type": "execute_result"
    }
   ],
   "source": [
    "Q"
   ]
  },
  {
   "cell_type": "code",
   "execution_count": 278,
   "id": "88921df9",
   "metadata": {},
   "outputs": [],
   "source": [
    "W = []\n",
    "B = []"
   ]
  },
  {
   "cell_type": "code",
   "execution_count": 298,
   "id": "3487b96a",
   "metadata": {},
   "outputs": [
    {
     "name": "stdout",
     "output_type": "stream",
     "text": [
      "(3, 1)\n",
      "(3, 1)\n",
      "(3, 1)\n",
      "[[ 6.41170797 -0.29414601]\n",
      " [-5.0590221  -1.52951105]]\n"
     ]
    },
    {
     "ename": "IndexError",
     "evalue": "too many indices for array: array is 1-dimensional, but 2 were indexed",
     "output_type": "error",
     "traceback": [
      "\u001b[1;31m---------------------------------------------------------------------------\u001b[0m",
      "\u001b[1;31mIndexError\u001b[0m                                Traceback (most recent call last)",
      "Cell \u001b[1;32mIn[298], line 11\u001b[0m\n\u001b[0;32m      9\u001b[0m     X[\u001b[38;5;241m1\u001b[39m:, \u001b[38;5;241m1\u001b[39m:] \u001b[38;5;241m=\u001b[39m R(X[\u001b[38;5;241m1\u001b[39m:, \u001b[38;5;241m1\u001b[39m:])\n\u001b[0;32m     10\u001b[0m     \u001b[38;5;28;01mreturn\u001b[39;00m X\n\u001b[1;32m---> 11\u001b[0m R \u001b[38;5;241m=\u001b[39m R(X)\n",
      "Cell \u001b[1;32mIn[298], line 9\u001b[0m, in \u001b[0;36mR\u001b[1;34m(X)\u001b[0m\n\u001b[0;32m      7\u001b[0m X \u001b[38;5;241m=\u001b[39m np\u001b[38;5;241m.\u001b[39mcolumn_stack([householder(np\u001b[38;5;241m.\u001b[39masarray(X[\u001b[38;5;241m0\u001b[39m:, i]), beta, w)  \u001b[38;5;28;01mfor\u001b[39;00m i \u001b[38;5;129;01min\u001b[39;00m \u001b[38;5;28mrange\u001b[39m(X\u001b[38;5;241m.\u001b[39mshape[\u001b[38;5;241m1\u001b[39m])])\n\u001b[0;32m      8\u001b[0m \u001b[38;5;28mprint\u001b[39m(X[\u001b[38;5;241m1\u001b[39m:, \u001b[38;5;241m1\u001b[39m:])\n\u001b[1;32m----> 9\u001b[0m X[\u001b[38;5;241m1\u001b[39m:, \u001b[38;5;241m1\u001b[39m:] \u001b[38;5;241m=\u001b[39m R(X[\u001b[38;5;241m1\u001b[39m:, \u001b[38;5;241m1\u001b[39m:])\n\u001b[0;32m     10\u001b[0m \u001b[38;5;28;01mreturn\u001b[39;00m X\n",
      "Cell \u001b[1;32mIn[298], line 5\u001b[0m, in \u001b[0;36mR\u001b[1;34m(X)\u001b[0m\n\u001b[0;32m      3\u001b[0m \u001b[38;5;28;01mif\u001b[39;00m X\u001b[38;5;241m.\u001b[39msize \u001b[38;5;241m==\u001b[39m \u001b[38;5;241m1\u001b[39m:\n\u001b[0;32m      4\u001b[0m     \u001b[38;5;28;01mreturn\u001b[39;00m X\n\u001b[1;32m----> 5\u001b[0m w, beta \u001b[38;5;241m=\u001b[39m householder_compute(X[\u001b[38;5;241m0\u001b[39m:, \u001b[38;5;241m0\u001b[39m])\n\u001b[0;32m      6\u001b[0m \u001b[38;5;66;03m#print([np.asarray(X[0:, i]) for i in range(X.shape[1])])\u001b[39;00m\n\u001b[0;32m      7\u001b[0m X \u001b[38;5;241m=\u001b[39m np\u001b[38;5;241m.\u001b[39mcolumn_stack([householder(np\u001b[38;5;241m.\u001b[39masarray(X[\u001b[38;5;241m0\u001b[39m:, i]), beta, w)  \u001b[38;5;28;01mfor\u001b[39;00m i \u001b[38;5;129;01min\u001b[39;00m \u001b[38;5;28mrange\u001b[39m(X\u001b[38;5;241m.\u001b[39mshape[\u001b[38;5;241m1\u001b[39m])])\n",
      "Cell \u001b[1;32mIn[24], line 2\u001b[0m, in \u001b[0;36mhouseholder_compute\u001b[1;34m(x)\u001b[0m\n\u001b[0;32m      1\u001b[0m \u001b[38;5;28;01mdef\u001b[39;00m \u001b[38;5;21mhouseholder_compute\u001b[39m(x):\n\u001b[1;32m----> 2\u001b[0m     alpha \u001b[38;5;241m=\u001b[39m x[\u001b[38;5;241m0\u001b[39m, \u001b[38;5;241m0\u001b[39m] \u001b[38;5;241m*\u001b[39m (\u001b[38;5;241m1\u001b[39m \u001b[38;5;241m+\u001b[39m np\u001b[38;5;241m.\u001b[39mlinalg\u001b[38;5;241m.\u001b[39mnorm(x) \u001b[38;5;241m/\u001b[39m \u001b[38;5;28mabs\u001b[39m(x[\u001b[38;5;241m0\u001b[39m, \u001b[38;5;241m0\u001b[39m]))\n\u001b[0;32m      3\u001b[0m     x \u001b[38;5;241m=\u001b[39m x \u001b[38;5;241m/\u001b[39m alpha\n\u001b[0;32m      4\u001b[0m     x[\u001b[38;5;241m0\u001b[39m, \u001b[38;5;241m0\u001b[39m] \u001b[38;5;241m=\u001b[39m \u001b[38;5;241m1\u001b[39m\n",
      "\u001b[1;31mIndexError\u001b[0m: too many indices for array: array is 1-dimensional, but 2 were indexed"
     ]
    }
   ],
   "source": [
    "X = np.matrix([[1,4,2], [2,9, 1], [7,4,3]])\n",
    "def R(X):\n",
    "    if X.size == 1:\n",
    "        return X\n",
    "    w, beta = householder_compute(X[0:, 0])\n",
    "    #print([np.asarray(X[0:, i]) for i in range(X.shape[1])])\n",
    "    X = np.column_stack([householder(np.asarray(X[0:, i]), beta, w)  for i in range(X.shape[1])])\n",
    "    print(X[1:, 1:])\n",
    "    X[1:, 1:] = R(X[1:, 1:])\n",
    "    return X\n",
    "R = R(X)\n"
   ]
  },
  {
   "cell_type": "code",
   "execution_count": 299,
   "id": "8529d20c",
   "metadata": {},
   "outputs": [
    {
     "ename": "TypeError",
     "evalue": "bad operand type for abs(): 'function'",
     "output_type": "error",
     "traceback": [
      "\u001b[1;31m---------------------------------------------------------------------------\u001b[0m",
      "\u001b[1;31mTypeError\u001b[0m                                 Traceback (most recent call last)",
      "Cell \u001b[1;32mIn[299], line 1\u001b[0m\n\u001b[1;32m----> 1\u001b[0m R[\u001b[38;5;28mabs\u001b[39m(R) \u001b[38;5;241m<\u001b[39m \u001b[38;5;241m1E-8\u001b[39m] \u001b[38;5;241m=\u001b[39m \u001b[38;5;241m0\u001b[39m\n\u001b[0;32m      2\u001b[0m R\n",
      "\u001b[1;31mTypeError\u001b[0m: bad operand type for abs(): 'function'"
     ]
    }
   ],
   "source": [
    "R[abs(R) < 1E-8] = 0\n",
    "R"
   ]
  },
  {
   "cell_type": "code",
   "execution_count": 295,
   "id": "54777695",
   "metadata": {},
   "outputs": [
    {
     "ename": "TypeError",
     "evalue": "unsupported operand type(s) for *: 'float' and 'function'",
     "output_type": "error",
     "traceback": [
      "\u001b[1;31m---------------------------------------------------------------------------\u001b[0m",
      "\u001b[1;31mTypeError\u001b[0m                                 Traceback (most recent call last)",
      "Cell \u001b[1;32mIn[295], line 1\u001b[0m\n\u001b[1;32m----> 1\u001b[0m np\u001b[38;5;241m.\u001b[39mlinalg\u001b[38;5;241m.\u001b[39mqr(X\u001b[38;5;241m.\u001b[39mT)[\u001b[38;5;241m0\u001b[39m] \u001b[38;5;241m*\u001b[39m R\n",
      "File \u001b[1;32m~\\anaconda3\\Lib\\site-packages\\numpy\\matrixlib\\defmatrix.py:220\u001b[0m, in \u001b[0;36mmatrix.__mul__\u001b[1;34m(self, other)\u001b[0m\n\u001b[0;32m    218\u001b[0m     \u001b[38;5;28;01mreturn\u001b[39;00m N\u001b[38;5;241m.\u001b[39mdot(\u001b[38;5;28mself\u001b[39m, asmatrix(other))\n\u001b[0;32m    219\u001b[0m \u001b[38;5;28;01mif\u001b[39;00m isscalar(other) \u001b[38;5;129;01mor\u001b[39;00m \u001b[38;5;129;01mnot\u001b[39;00m \u001b[38;5;28mhasattr\u001b[39m(other, \u001b[38;5;124m'\u001b[39m\u001b[38;5;124m__rmul__\u001b[39m\u001b[38;5;124m'\u001b[39m) :\n\u001b[1;32m--> 220\u001b[0m     \u001b[38;5;28;01mreturn\u001b[39;00m N\u001b[38;5;241m.\u001b[39mdot(\u001b[38;5;28mself\u001b[39m, other)\n\u001b[0;32m    221\u001b[0m \u001b[38;5;28;01mreturn\u001b[39;00m \u001b[38;5;28mNotImplemented\u001b[39m\n",
      "File \u001b[1;32m<__array_function__ internals>:200\u001b[0m, in \u001b[0;36mdot\u001b[1;34m(*args, **kwargs)\u001b[0m\n",
      "\u001b[1;31mTypeError\u001b[0m: unsupported operand type(s) for *: 'float' and 'function'"
     ]
    }
   ],
   "source": [
    "\n",
    "np.linalg.qr(X.T)[0] * R"
   ]
  },
  {
   "cell_type": "code",
   "execution_count": 297,
   "id": "5a3646ae",
   "metadata": {},
   "outputs": [
    {
     "data": {
      "text/plain": [
       "matrix([[-7.34846923, -6.80413817, -3.40206909],\n",
       "        [ 0.        , -8.16723354, -0.71650355],\n",
       "        [ 0.        ,  0.        , -1.38294923]])"
      ]
     },
     "execution_count": 297,
     "metadata": {},
     "output_type": "execute_result"
    }
   ],
   "source": [
    "np.linalg.qr(X)[1]"
   ]
  },
  {
   "cell_type": "code",
   "execution_count": null,
   "id": "21774b0b",
   "metadata": {},
   "outputs": [],
   "source": []
  },
  {
   "cell_type": "code",
   "execution_count": null,
   "id": "40c37b12",
   "metadata": {},
   "outputs": [],
   "source": []
  },
  {
   "cell_type": "code",
   "execution_count": null,
   "id": "8d6b2cd2",
   "metadata": {},
   "outputs": [],
   "source": []
  }
 ],
 "metadata": {
  "kernelspec": {
   "display_name": "Python 3 (ipykernel)",
   "language": "python",
   "name": "python3"
  },
  "language_info": {
   "codemirror_mode": {
    "name": "ipython",
    "version": 3
   },
   "file_extension": ".py",
   "mimetype": "text/x-python",
   "name": "python",
   "nbconvert_exporter": "python",
   "pygments_lexer": "ipython3",
   "version": "3.11.4"
  }
 },
 "nbformat": 4,
 "nbformat_minor": 5
}
