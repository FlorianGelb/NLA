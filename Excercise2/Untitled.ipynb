{
 "cells": [
  {
   "cell_type": "code",
   "execution_count": 3,
   "id": "9df25ed4",
   "metadata": {},
   "outputs": [],
   "source": [
    "import numpy as np"
   ]
  },
  {
   "cell_type": "code",
   "execution_count": null,
   "id": "1f89aae6",
   "metadata": {},
   "outputs": [],
   "source": []
  },
  {
   "cell_type": "code",
   "execution_count": 24,
   "id": "f505ddf5",
   "metadata": {},
   "outputs": [],
   "source": [
    "def householder_compute(x):\n",
    "    alpha = x[0, 0] * (1 + np.linalg.norm(x) / abs(x[0, 0]))\n",
    "    x = x / alpha\n",
    "    x[0, 0] = 1\n",
    "    return (x, 2/np.linalg.norm(x)**2)"
   ]
  },
  {
   "cell_type": "code",
   "execution_count": null,
   "id": "cfa97076",
   "metadata": {},
   "outputs": [],
   "source": []
  },
  {
   "cell_type": "code",
   "execution_count": 113,
   "id": "8c9303b4",
   "metadata": {},
   "outputs": [],
   "source": [
    "def householder(x, b, w):\n",
    "    if b != 0:\n",
    "        a = float(b * np.matmul(x.T, w))\n",
    "        x = x - a*w\n",
    "    return np.squeeze(np.asarray(x))"
   ]
  },
  {
   "cell_type": "code",
   "execution_count": 114,
   "id": "3272c32b",
   "metadata": {},
   "outputs": [],
   "source": [
    "X = np.matrix([[1,4,2], [2,9, 1], [7,4,3]])"
   ]
  },
  {
   "cell_type": "code",
   "execution_count": 115,
   "id": "2ee75f79",
   "metadata": {},
   "outputs": [],
   "source": [
    "Q = np.matrix([])\n",
    "for i in range(X.shape[0]):\n",
    "    x = X[i].T\n",
    "    w, beta = householder_compute(x)\n",
    "    K = (beta * np.matmul(w, w.T))\n",
    "    Q = np.identity(K.shape[0]) - K\n",
    "    X = Q.T * X\n",
    "    if Q.shape == (1, 0):\n",
    "        Q = np.identity(K.shape[0]) - K\n",
    "    else:\n",
    "        Q = np.matmul(Q, np.identity(K.shape[0]) - K)\n",
    "    "
   ]
  },
  {
   "cell_type": "code",
   "execution_count": 116,
   "id": "c9dc0a94",
   "metadata": {},
   "outputs": [
    {
     "data": {
      "text/plain": [
       "matrix([[1.00000000e+00, 1.73472348e-16, 1.11022302e-16],\n",
       "        [1.73472348e-16, 1.00000000e+00, 0.00000000e+00],\n",
       "        [1.11022302e-16, 0.00000000e+00, 1.00000000e+00]])"
      ]
     },
     "execution_count": 116,
     "metadata": {},
     "output_type": "execute_result"
    }
   ],
   "source": [
    "Q"
   ]
  },
  {
   "cell_type": "code",
   "execution_count": 117,
   "id": "88921df9",
   "metadata": {},
   "outputs": [],
   "source": [
    "W = []\n",
    "B = []"
   ]
  },
  {
   "cell_type": "code",
   "execution_count": 201,
   "id": "3487b96a",
   "metadata": {},
   "outputs": [
    {
     "name": "stdout",
     "output_type": "stream",
     "text": [
      "[array([-4.58257569e+00, -8.88178420e-16, -4.44089210e-16]), array([-8.72871561,  1.31271284, -2.84364358]), array([-6.32831882, -5.54994221, -1.7749711 ])]\n",
      "[array([-3.13201593,  0.        ]), array([ 0.71458616, -5.78288402])]\n"
     ]
    }
   ],
   "source": [
    "X = np.matrix([[1,4,2], [2,9, 1], [7,4,3]])\n",
    "def R(X):\n",
    "    if X.size == 1:\n",
    "        return X\n",
    "\n",
    "    w, beta = householder_compute(X[0].T)\n",
    "    print([householder(x.T, beta, w) for x in X])\n",
    "    X = (np.matrix([householder(x.T, beta, w) for x in X]))\n",
    "    X[1:, 1:] = R(X[1:, 1:]).T\n",
    "    return X.T\n",
    "R = R(X)\n"
   ]
  },
  {
   "cell_type": "code",
   "execution_count": 202,
   "id": "8529d20c",
   "metadata": {},
   "outputs": [
    {
     "data": {
      "text/plain": [
       "matrix([[-4.58257569, -8.72871561, -6.32831882],\n",
       "        [ 0.        , -3.13201593,  0.71458616],\n",
       "        [ 0.        ,  0.        , -5.78288402]])"
      ]
     },
     "execution_count": 202,
     "metadata": {},
     "output_type": "execute_result"
    }
   ],
   "source": [
    "R[abs(R) < 1E-8] = 0\n",
    "R"
   ]
  },
  {
   "cell_type": "code",
   "execution_count": 203,
   "id": "54777695",
   "metadata": {},
   "outputs": [
    {
     "data": {
      "text/plain": [
       "matrix([[1., 2., 7.],\n",
       "        [4., 9., 4.],\n",
       "        [2., 1., 3.]])"
      ]
     },
     "execution_count": 203,
     "metadata": {},
     "output_type": "execute_result"
    }
   ],
   "source": [
    "\n",
    "np.linalg.qr(X.T)[0] * R"
   ]
  },
  {
   "cell_type": "code",
   "execution_count": 204,
   "id": "5a3646ae",
   "metadata": {},
   "outputs": [
    {
     "data": {
      "text/plain": [
       "matrix([[-4.58257569, -8.72871561, -6.32831882],\n",
       "        [ 0.        , -3.13201593,  0.71458616],\n",
       "        [ 0.        ,  0.        , -5.78288402]])"
      ]
     },
     "execution_count": 204,
     "metadata": {},
     "output_type": "execute_result"
    }
   ],
   "source": [
    "np.linalg.qr(X.T)[1]"
   ]
  },
  {
   "cell_type": "code",
   "execution_count": null,
   "id": "f7c6ef3e",
   "metadata": {},
   "outputs": [],
   "source": []
  },
  {
   "cell_type": "code",
   "execution_count": null,
   "id": "3198af04",
   "metadata": {},
   "outputs": [],
   "source": []
  },
  {
   "cell_type": "code",
   "execution_count": null,
   "id": "54d720e2",
   "metadata": {},
   "outputs": [],
   "source": []
  }
 ],
 "metadata": {
  "kernelspec": {
   "display_name": "Python 3 (ipykernel)",
   "language": "python",
   "name": "python3"
  },
  "language_info": {
   "codemirror_mode": {
    "name": "ipython",
    "version": 3
   },
   "file_extension": ".py",
   "mimetype": "text/x-python",
   "name": "python",
   "nbconvert_exporter": "python",
   "pygments_lexer": "ipython3",
   "version": "3.11.4"
  }
 },
 "nbformat": 4,
 "nbformat_minor": 5
}
